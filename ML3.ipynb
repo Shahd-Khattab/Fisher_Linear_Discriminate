{
  "nbformat": 4,
  "nbformat_minor": 0,
  "metadata": {
    "colab": {
      "provenance": []
    },
    "kernelspec": {
      "name": "python3",
      "display_name": "Python 3"
    },
    "language_info": {
      "name": "python"
    }
  },
  "cells": [
    {
      "cell_type": "code",
      "execution_count": 60,
      "metadata": {
        "id": "3CItDg2MJWQT"
      },
      "outputs": [],
      "source": [
        "import numpy as np\n",
        "import pandas as pd\n",
        "import cv2 \n",
        "import glob\n",
        "import os, sys\n",
        "import imageio\n",
        "import matplotlib.pyplot as plt\n",
        "from PIL import Image\n",
        "import matplotlib.image as mpimg\n",
        "from sklearn.metrics import accuracy_score\n",
        "\n",
        "from google.colab.patches import cv2_imshow"
      ]
    },
    {
      "cell_type": "code",
      "source": [
        "# importing the zipfile module\n",
        "from zipfile import ZipFile\n",
        "\n",
        "# loading the temp.zip and creating a zip object\n",
        "with ZipFile(\"/content/Data.zip\", 'r') as zObject:\n",
        "\n",
        "\t# Extracting all the members of the zip\n",
        "\t# into a specific location.\n",
        "\tzObject.extractall(\n",
        "\t\tpath=\"/content/Data\")"
      ],
      "metadata": {
        "id": "rYR1IYH6M0w4"
      },
      "execution_count": 61,
      "outputs": []
    },
    {
      "cell_type": "code",
      "source": [
        "training_img_path = '/content/Data/Data/Train/'\n",
        "list_of_images_training = []\n",
        "for i in range(1,2401): \n",
        "    im_path = training_img_path + '{}.jpg'.format(i)\n",
        "    im = imageio.imread(str(im_path))\n",
        "    im_numpy = np.array(im)\n",
        "    im_numpy_flatten = im_numpy.flatten().reshape(1,784)\n",
        "    list_of_images_training.append(im_numpy_flatten)\t\n",
        "\n",
        "\n",
        "list_of_images_training_np = np.array(list_of_images_training).reshape(2400,784)\n",
        "print(list_of_images_training_np.shape) "
      ],
      "metadata": {
        "colab": {
          "base_uri": "https://localhost:8080/"
        },
        "id": "YF4jbXf-APHS",
        "outputId": "10e28b9e-7f33-48fd-be2f-549e2a8f5749"
      },
      "execution_count": 62,
      "outputs": [
        {
          "output_type": "stream",
          "name": "stdout",
          "text": [
            "(2400, 784)\n"
          ]
        }
      ]
    },
    {
      "cell_type": "code",
      "source": [
        "TestLabels= np.genfromtxt(\"/content/Test Labels.txt\", delimiter = \",\")\n",
        "TestLabels"
      ],
      "metadata": {
        "id": "R4QJW16GmFes",
        "colab": {
          "base_uri": "https://localhost:8080/"
        },
        "outputId": "30cc1e7a-fcb1-4ab2-97d2-4d0edb695c6e"
      },
      "execution_count": 63,
      "outputs": [
        {
          "output_type": "execute_result",
          "data": {
            "text/plain": [
              "array([0., 0., 0., 0., 0., 0., 0., 0., 0., 0., 0., 0., 0., 0., 0., 0., 0.,\n",
              "       0., 0., 0., 1., 1., 1., 1., 1., 1., 1., 1., 1., 1., 1., 1., 1., 1.,\n",
              "       1., 1., 1., 1., 1., 1., 2., 2., 2., 2., 2., 2., 2., 2., 2., 2., 2.,\n",
              "       2., 2., 2., 2., 2., 2., 2., 2., 2., 3., 3., 3., 3., 3., 3., 3., 3.,\n",
              "       3., 3., 3., 3., 3., 3., 3., 3., 3., 3., 3., 3., 4., 4., 4., 4., 4.,\n",
              "       4., 4., 4., 4., 4., 4., 4., 4., 4., 4., 4., 4., 4., 4., 4., 5., 5.,\n",
              "       5., 5., 5., 5., 5., 5., 5., 5., 5., 5., 5., 5., 5., 5., 5., 5., 5.,\n",
              "       5., 6., 6., 6., 6., 6., 6., 6., 6., 6., 6., 6., 6., 6., 6., 6., 6.,\n",
              "       6., 6., 6., 6., 7., 7., 7., 7., 7., 7., 7., 7., 7., 7., 7., 7., 7.,\n",
              "       7., 7., 7., 7., 7., 7., 7., 8., 8., 8., 8., 8., 8., 8., 8., 8., 8.,\n",
              "       8., 8., 8., 8., 8., 8., 8., 8., 8., 8., 9., 9., 9., 9., 9., 9., 9.,\n",
              "       9., 9., 9., 9., 9., 9., 9., 9., 9., 9., 9., 9., 9.])"
            ]
          },
          "metadata": {},
          "execution_count": 63
        }
      ]
    },
    {
      "cell_type": "code",
      "source": [
        "list_of_images_training_np[990]"
      ],
      "metadata": {
        "id": "e7gz6YelAbom",
        "colab": {
          "base_uri": "https://localhost:8080/"
        },
        "outputId": "39c62c35-9b6d-4d17-d031-a447d04673a5"
      },
      "execution_count": 64,
      "outputs": [
        {
          "output_type": "execute_result",
          "data": {
            "text/plain": [
              "array([  6,   1,   0,   0,   0,   5,   2,   0,   0,   0,   0,   0,   0,\n",
              "         0,   0,   0,   4,   0,   0,   2,   0,   0,   4,   1,   0,   0,\n",
              "         0,   0,   0,   7,  13,   0,   0,   0,   2,   0,   0,   0,   0,\n",
              "         0,   0,   0,   0,   0,   0,   1,   2,   0,   0,   3,   2,   0,\n",
              "         0,   0,   0,   0,   5,   0,   0,   0,   9,   6,   0,   0,   0,\n",
              "         0,   0,   0,   0,   0,   0,   0,   0,   1,   0,   0,   0,   0,\n",
              "         0,   0,   0,   0,   0,   0,  10,   5,   5,   8,   5,   0,   0,\n",
              "         1,   0,   0,   0,   0,   0,   0,   0,   0,   2,   0,   0,   0,\n",
              "        10,   1,   0,   2,   0,   0,   0,   0,   0,   2,   1,   0,   0,\n",
              "         8,   9,   0,   0,   0,   0,   0,   0,   0,   0,   0,   0,   4,\n",
              "         2,   0,   4,   7,   1,   0,   0,   0,   0,   0,   9,   6,   7,\n",
              "         8,   4,   0,   0,   1,   0,   0,   0,   0,   0,   0,   0,   0,\n",
              "         0,   3,  10,   0,   0,   0,   5,   0,   0,   0,   0,   0,   0,\n",
              "         0,   2,   2,   0,   0,   0,   0,   0,   0,   0,   0,   0,   0,\n",
              "         0,   0,   2,   0,  53,  99,  54,   1,   0,   2,   0,   0,   0,\n",
              "         0,   3,  13,   0,   1, 114, 232, 198,  77,   0,   0,   0,   0,\n",
              "         0,   0,   0,   0,   5,   0, 119, 253, 186,  39,   0,   7,   0,\n",
              "         0,   0,   0,   0,   2,   0,   0, 130, 246, 253, 245, 113,   0,\n",
              "         4,   3,   1,   1,   0,   0,   0,   5,  91, 255, 251, 184,   0,\n",
              "         8,   0,   0,   0,   0,   0,   0,   6,   9, 107, 255, 250, 255,\n",
              "       213,  11,   0,   0,   0,   0,   3,   8,   0,  16, 111, 254, 248,\n",
              "       248,  70,   0,   0,   0,   0,   0,   0,   0,   8,   8,  96, 255,\n",
              "       243, 255, 229,   0,   0,  12,   0,   4,   1,   0,   1,   0,  98,\n",
              "       254, 247, 255, 103,   0,   0,   0,   0,   0,   2,   0,   1,   0,\n",
              "       145, 255, 246, 255, 196,   2,   4,   0,   0,  17,   0,   0,   6,\n",
              "         0, 110, 255, 250, 244,  92,  12,   0,   0,   0,   0,   6,   2,\n",
              "         2,   0, 232, 255, 255, 245, 103,   0,   1,   0,   0,   1,   0,\n",
              "        16,   0,  59, 165, 255, 255, 255,  89,   0,   0,   0,   0,   0,\n",
              "         1,   3,   3,   0, 255, 255, 255, 232,  31,   0,  19,   2,  12,\n",
              "         0,  24, 138, 243, 255, 255, 242, 238, 255,  96,  13,   0,   0,\n",
              "         0,   0,   0,   0,   1,   1, 203, 248, 255, 237, 243, 151,  79,\n",
              "        88, 199, 233, 226, 243, 255, 255, 252, 252, 255, 255,  90,   3,\n",
              "         0,   0,   0,   0,   2,   0,   1,   0, 127, 244, 255, 255, 235,\n",
              "       255, 255, 245, 255, 251, 252, 254, 251, 250, 255, 251, 248, 255,\n",
              "       101,   0,   0,   0,   0,   0,   8,   0,   0,   0,  95, 242, 255,\n",
              "       247, 249, 255, 250, 240, 255, 255, 249, 248, 211, 128,  68, 241,\n",
              "       246, 250, 102,   0,   0,   0,   0,   0,   0,   9,   6,   0,  22,\n",
              "       119, 225, 255, 255, 234, 255, 255, 251, 249, 220, 134,   0,   2,\n",
              "         0, 207, 255, 249,  91,   5,   0,   0,   0,   0,   0,  12,   0,\n",
              "         0,   0,   8, 100, 140, 241, 233, 141,  80, 103,  70,   2,   0,\n",
              "         0,  11,   0, 219, 255, 248,  87,   3,   0,   0,   0,   0,   7,\n",
              "         0,   0,   9,   2,   0,   1,   0,   8,   0,   0,  15,   0,  15,\n",
              "        27,   0,   2,   0,   0, 246, 236, 255, 102,   0,   0,   0,   0,\n",
              "         0,   5,   0,   4,   7,   4,   7,   0,   0,   0,  12,   2,   0,\n",
              "         0,   0,   0,   4,   8,   0,   5, 214, 242, 247,  96,   0,   0,\n",
              "         0,   0,   0,   4,   0,  10,   0,   0,  10,   2,  11,   0,   0,\n",
              "         2,   4,  11,   7,   0,   2,   2,   0,   0, 107, 255, 255,  97,\n",
              "         5,   0,   0,   0,   0,   5,   0,   0,   0,   0,   0,   0,   0,\n",
              "         9,   0,   0,   3,   0,   0,   3,   0,   3,   3,   0,  28, 197,\n",
              "       247,  82,   2,   0,   0,   0,   0,   0,   3,   0,  10,   4,   0,\n",
              "        13,   0,   0,   4,   0,   0,   3,   0,   0,   9,   0,   8,   0,\n",
              "         0, 100, 255, 200, 187,   0,   0,   0,   0,   0,   0,   0,   0,\n",
              "         0,   0,   0,   0,   0,   0,   0,   0,   0,   0,   0,   0,   1,\n",
              "         0,   3,   0,  17, 130, 204, 168,   0,   0,   0,   0,   0,   0,\n",
              "         0,   0,   0,   0,   0,   0,   0,   0,   0,   0,   0,   0,   0,\n",
              "         0,   5,   0,   0,   2,   0,   6,  21,   0,   0,   0,   0,   0,\n",
              "         0,   0,   0,   0,   0,   0,   0,   0,   0,   0,   0,   0,   0,\n",
              "         0,   0,   0,   9,   0,   6,  18,   5,   0,   0,   0,   0,   0,\n",
              "         0,   0,   0,   0,   0,   0,   0,   0,   0,   0,   0,   0,   0,\n",
              "         0,   0,   0,   0,   0,   0,   0,   0,   0,   0,   0,   3,   8,\n",
              "         0,   0,   0,   0], dtype=uint8)"
            ]
          },
          "metadata": {},
          "execution_count": 64
        }
      ]
    },
    {
      "cell_type": "code",
      "source": [
        "testing_img_path = '/content/Data/Data/Test/'\n",
        "list_of_images_testing = []\n",
        "for i in range(1,201): \n",
        "    im_path = testing_img_path + '{}.jpg'.format(i)\n",
        "    im = imageio.imread(str(im_path))\n",
        "    im_numpy = np.array(im)\n",
        "    im_numpy_flatten = im_numpy.flatten().reshape(1,784)\n",
        "    list_of_images_testing.append(im_numpy_flatten)\t\n",
        "\n",
        "\n",
        "list_of_images_testing_np = np.array(list_of_images_testing).reshape(200,784)\n",
        "print(list_of_images_testing_np.shape) "
      ],
      "metadata": {
        "colab": {
          "base_uri": "https://localhost:8080/"
        },
        "id": "1RIF0FTbAX_G",
        "outputId": "c319be87-5b4e-4b0b-cf28-601dea879e9c"
      },
      "execution_count": 65,
      "outputs": [
        {
          "output_type": "stream",
          "name": "stdout",
          "text": [
            "(200, 784)\n"
          ]
        }
      ]
    },
    {
      "cell_type": "code",
      "source": [
        "list_of_images_training_np.shape"
      ],
      "metadata": {
        "colab": {
          "base_uri": "https://localhost:8080/"
        },
        "id": "FVJhBJvOrhBV",
        "outputId": "2bd78608-8246-469b-f3c7-8af0fabaffde"
      },
      "execution_count": 66,
      "outputs": [
        {
          "output_type": "execute_result",
          "data": {
            "text/plain": [
              "(2400, 784)"
            ]
          },
          "metadata": {},
          "execution_count": 66
        }
      ]
    },
    {
      "cell_type": "code",
      "source": [
        "def getMean1(number):\n",
        "  total=np.zeros(shape=(784))\n",
        "  i=0\n",
        "  StartingIndexOfOnes= number * 240\n",
        "  for i in range (240):\n",
        "    total= list_of_images_training_np[i+StartingIndexOfOnes]+total\n",
        "  mean1= total/240\n",
        "  return mean1\n"
      ],
      "metadata": {
        "id": "6074aqTVMrkS"
      },
      "execution_count": 67,
      "outputs": []
    },
    {
      "cell_type": "code",
      "source": [
        "(getMean1(0).reshape(1,784)).shape"
      ],
      "metadata": {
        "id": "ZPjUV6oAzAZH",
        "colab": {
          "base_uri": "https://localhost:8080/"
        },
        "outputId": "69c219f0-4eab-4b25-e438-864d379c4869"
      },
      "execution_count": 68,
      "outputs": [
        {
          "output_type": "execute_result",
          "data": {
            "text/plain": [
              "(1, 784)"
            ]
          },
          "metadata": {},
          "execution_count": 68
        }
      ]
    },
    {
      "cell_type": "code",
      "source": [
        "def getMean2(number):\n",
        "  total=np.zeros(shape=(784))\n",
        "  i=0\n",
        "  total2=0\n",
        "  StartingIndexOfOnes= number * 240\n",
        "  for i in range (2400):\n",
        "    if(StartingIndexOfOnes <= i < StartingIndexOfOnes+240):\n",
        "      total2= total2*1\n",
        "    else:\n",
        "      total= list_of_images_training_np[i]+total\n",
        "\n",
        "  mean2= total/2160\n",
        "  return mean2"
      ],
      "metadata": {
        "id": "OO1uxlnUXCE2"
      },
      "execution_count": 69,
      "outputs": []
    },
    {
      "cell_type": "code",
      "source": [
        "getMean2(0).shape"
      ],
      "metadata": {
        "id": "vd8CJCT6X0M9",
        "colab": {
          "base_uri": "https://localhost:8080/"
        },
        "outputId": "8d29fe86-5334-46d8-ee85-5a368826650e"
      },
      "execution_count": 70,
      "outputs": [
        {
          "output_type": "execute_result",
          "data": {
            "text/plain": [
              "(784,)"
            ]
          },
          "metadata": {},
          "execution_count": 70
        }
      ]
    },
    {
      "cell_type": "code",
      "source": [
        "def getClass1(number):\n",
        "  c=[]\n",
        "  i=0\n",
        "  startingIndex= number * 240\n",
        "  for i in range (240):\n",
        "    c.append(list_of_images_training_np[i+startingIndex])\n",
        "  c=np.array(c)\n",
        "  return c      "
      ],
      "metadata": {
        "id": "7JuBsyZTA_3D"
      },
      "execution_count": 71,
      "outputs": []
    },
    {
      "cell_type": "code",
      "source": [
        "def getClass2(number):\n",
        "  c=[]\n",
        "  i=0\n",
        "  startingIndex= number * 240\n",
        "  total2=0\n",
        "  for i in range (2400):\n",
        "    if(startingIndex <= i < startingIndex+240):\n",
        "      total2= total2*1\n",
        "    else:\n",
        "      c.append(list_of_images_training_np[i])\n",
        "  c=np.array(c)\n",
        "  return c    "
      ],
      "metadata": {
        "id": "BSIpmSMK-VOu"
      },
      "execution_count": 72,
      "outputs": []
    },
    {
      "cell_type": "code",
      "source": [
        "def getS1(image1,mean1):\n",
        "  i=0\n",
        "  s1= np.zeros((784,784))\n",
        "  \n",
        "  for i in range(240):\n",
        "    s11= (image1[i]- mean1 ).reshape(784,1)\n",
        "    s12= (image1[i]- mean1).transpose().reshape(1,784);\n",
        "    s1+= s11.dot(s12)\n",
        "  return s1  \n",
        "\n",
        "def getS2(image2,mean2):  \n",
        "  j=0\n",
        "  s2= np.zeros((784,784))\n",
        "  for j in range(2160):\n",
        "    s21= (image2[j]- mean2  ).reshape(784,1)\n",
        "    s22= (image2[j]- mean2 ).transpose().reshape(1,784);\n",
        "    s2+=s21.dot(s22)\n",
        "  return s2\n",
        "\n",
        "def getSw(number):\n",
        "  k=0\n",
        "  Sw=np.zeros((784,784))\n",
        "  Sw= getS1( getClass1(number),getMean1(number) )+ getS2( getClass2(number),getMean2(number) ) \n",
        "  return Sw  "
      ],
      "metadata": {
        "id": "M_4yp3ahpqLy"
      },
      "execution_count": 73,
      "outputs": []
    },
    {
      "cell_type": "code",
      "source": [
        "sw0= getSw(0)\n",
        "sw1= getSw(1)\n",
        "sw2= getSw(2)\n",
        "sw3= getSw(3)\n",
        "sw4= getSw(4)\n",
        "sw5= getSw(5)\n",
        "sw6= getSw(6)\n",
        "sw7= getSw(7)\n",
        "sw8= getSw(8)\n",
        "sw9= getSw(9)\n",
        "\n"
      ],
      "metadata": {
        "id": "ZoSudlTaOb2z"
      },
      "execution_count": 74,
      "outputs": []
    },
    {
      "cell_type": "code",
      "source": [
        "W0=np.linalg.pinv(sw0).dot( getMean2(0)-getMean1(0) )\n",
        "W1=np.linalg.pinv(sw1).dot( getMean2(1)-getMean1(1) )\n",
        "W2=np.linalg.pinv(sw2).dot( getMean2(2)-getMean1(2) )\n",
        "W3=np.linalg.pinv(sw3).dot( getMean2(3)-getMean1(3) )\n",
        "W4=np.linalg.pinv(sw4).dot( getMean2(4)-getMean1(4) )\n",
        "W5=np.linalg.pinv(sw5).dot( getMean2(5)-getMean1(5) )\n",
        "W6=np.linalg.pinv(sw6).dot( getMean2(6)-getMean1(6) )\n",
        "W7=np.linalg.pinv(sw7).dot( getMean2(7)-getMean1(7) )\n",
        "W8=np.linalg.pinv(sw8).dot( getMean2(8)-getMean1(8) )\n",
        "W9=np.linalg.pinv(sw9).dot( getMean2(9)-getMean1(9) )\n",
        "\n",
        "W00= -0.5*W0.transpose().dot( getMean2(0)+getMean1(0) )\n",
        "W01= -0.5*W1.transpose().dot( getMean2(1)+getMean1(1) )\n",
        "W02= -0.5*W2.transpose().dot( getMean2(2)+getMean1(2) )\n",
        "W03= -0.5*W3.transpose().dot( getMean2(3)+getMean1(3) )\n",
        "W04= -0.5*W4.transpose().dot( getMean2(4)+getMean1(4) )\n",
        "W05= -0.5*W5.transpose().dot( getMean2(5)+getMean1(5) )\n",
        "W06= -0.5*W6.transpose().dot( getMean2(6)+getMean1(6) )\n",
        "W07= -0.5*W7.transpose().dot( getMean2(7)+getMean1(7) )\n",
        "W08= -0.5*W8.transpose().dot( getMean2(8)+getMean1(8) )\n",
        "W09= -0.5*W9.transpose().dot( getMean2(9)+getMean1(9) )\n",
        "\n"
      ],
      "metadata": {
        "id": "G-lSYg-4E5ow"
      },
      "execution_count": 84,
      "outputs": []
    },
    {
      "cell_type": "code",
      "source": [
        "PredictedLabels=[]\n",
        "for i in range (200):\n",
        "  #WT*x\n",
        "  #WT*X+W0\n",
        "  yOfX0= np.dot(W0.T,list_of_images_testing_np[i].reshape(784,1))\n",
        "  yOfX1= np.dot(W1.T,list_of_images_testing_np[i].reshape(784,1))\n",
        "  yOfX2= np.dot(W2.T,list_of_images_testing_np[i].reshape(784,1))\n",
        "  yOfX3= np.dot(W3.T,list_of_images_testing_np[i].reshape(784,1))\n",
        "  yOfX4= np.dot(W4.T,list_of_images_testing_np[i].reshape(784,1))\n",
        "  yOfX5= np.dot(W5.T,list_of_images_testing_np[i].reshape(784,1))\n",
        "  yOfX6= np.dot(W6.T,list_of_images_testing_np[i].reshape(784,1))\n",
        "  yOfX7= np.dot(W7.T,list_of_images_testing_np[i].reshape(784,1))\n",
        "  yOfX8= np.dot(W8.T,list_of_images_testing_np[i].reshape(784,1))\n",
        "  yOfX9= np.dot(W9.T,list_of_images_testing_np[i].reshape(784,1))\n",
        "\n",
        "  minY=np.array([yOfX0[0],yOfX1[0],yOfX2[0],yOfX3[0],yOfX4[0],yOfX5[0],yOfX6[0],yOfX7[0],yOfX8[0],yOfX9[0]])\n",
        "  minPredIndex= np.argmin(minY)\n",
        "  PredictedLabels.append(minPredIndex)"
      ],
      "metadata": {
        "id": "2uzLepx6ZOJG"
      },
      "execution_count": 76,
      "outputs": []
    },
    {
      "cell_type": "code",
      "source": [
        "PredictedLabels"
      ],
      "metadata": {
        "id": "SNG9ZNPcdr9Q",
        "colab": {
          "base_uri": "https://localhost:8080/"
        },
        "outputId": "219a4854-51bd-4aa3-99c8-a35622595b75"
      },
      "execution_count": 77,
      "outputs": [
        {
          "output_type": "execute_result",
          "data": {
            "text/plain": [
              "[0,\n",
              " 0,\n",
              " 0,\n",
              " 0,\n",
              " 0,\n",
              " 0,\n",
              " 0,\n",
              " 0,\n",
              " 0,\n",
              " 0,\n",
              " 0,\n",
              " 0,\n",
              " 0,\n",
              " 0,\n",
              " 0,\n",
              " 0,\n",
              " 0,\n",
              " 0,\n",
              " 6,\n",
              " 0,\n",
              " 1,\n",
              " 1,\n",
              " 1,\n",
              " 1,\n",
              " 1,\n",
              " 1,\n",
              " 1,\n",
              " 1,\n",
              " 1,\n",
              " 1,\n",
              " 1,\n",
              " 1,\n",
              " 1,\n",
              " 1,\n",
              " 1,\n",
              " 1,\n",
              " 1,\n",
              " 1,\n",
              " 1,\n",
              " 1,\n",
              " 2,\n",
              " 8,\n",
              " 2,\n",
              " 1,\n",
              " 2,\n",
              " 2,\n",
              " 2,\n",
              " 4,\n",
              " 3,\n",
              " 2,\n",
              " 3,\n",
              " 2,\n",
              " 1,\n",
              " 5,\n",
              " 2,\n",
              " 2,\n",
              " 4,\n",
              " 2,\n",
              " 2,\n",
              " 2,\n",
              " 3,\n",
              " 3,\n",
              " 3,\n",
              " 3,\n",
              " 3,\n",
              " 3,\n",
              " 3,\n",
              " 3,\n",
              " 3,\n",
              " 3,\n",
              " 3,\n",
              " 3,\n",
              " 3,\n",
              " 3,\n",
              " 3,\n",
              " 3,\n",
              " 3,\n",
              " 3,\n",
              " 8,\n",
              " 8,\n",
              " 8,\n",
              " 4,\n",
              " 4,\n",
              " 4,\n",
              " 4,\n",
              " 4,\n",
              " 4,\n",
              " 6,\n",
              " 6,\n",
              " 5,\n",
              " 4,\n",
              " 4,\n",
              " 8,\n",
              " 9,\n",
              " 4,\n",
              " 6,\n",
              " 3,\n",
              " 8,\n",
              " 4,\n",
              " 9,\n",
              " 8,\n",
              " 5,\n",
              " 8,\n",
              " 3,\n",
              " 5,\n",
              " 5,\n",
              " 5,\n",
              " 5,\n",
              " 5,\n",
              " 5,\n",
              " 9,\n",
              " 8,\n",
              " 6,\n",
              " 5,\n",
              " 8,\n",
              " 5,\n",
              " 9,\n",
              " 3,\n",
              " 5,\n",
              " 5,\n",
              " 6,\n",
              " 6,\n",
              " 6,\n",
              " 6,\n",
              " 6,\n",
              " 6,\n",
              " 6,\n",
              " 6,\n",
              " 6,\n",
              " 6,\n",
              " 6,\n",
              " 6,\n",
              " 6,\n",
              " 6,\n",
              " 6,\n",
              " 6,\n",
              " 6,\n",
              " 6,\n",
              " 6,\n",
              " 6,\n",
              " 7,\n",
              " 7,\n",
              " 7,\n",
              " 7,\n",
              " 7,\n",
              " 7,\n",
              " 7,\n",
              " 7,\n",
              " 7,\n",
              " 9,\n",
              " 7,\n",
              " 7,\n",
              " 2,\n",
              " 7,\n",
              " 9,\n",
              " 7,\n",
              " 7,\n",
              " 7,\n",
              " 7,\n",
              " 3,\n",
              " 8,\n",
              " 8,\n",
              " 8,\n",
              " 8,\n",
              " 5,\n",
              " 8,\n",
              " 8,\n",
              " 8,\n",
              " 8,\n",
              " 8,\n",
              " 8,\n",
              " 8,\n",
              " 8,\n",
              " 3,\n",
              " 8,\n",
              " 8,\n",
              " 8,\n",
              " 8,\n",
              " 8,\n",
              " 8,\n",
              " 9,\n",
              " 7,\n",
              " 9,\n",
              " 7,\n",
              " 7,\n",
              " 7,\n",
              " 3,\n",
              " 3,\n",
              " 9,\n",
              " 3,\n",
              " 4,\n",
              " 9,\n",
              " 9,\n",
              " 9,\n",
              " 7,\n",
              " 9,\n",
              " 9,\n",
              " 0,\n",
              " 9,\n",
              " 9]"
            ]
          },
          "metadata": {},
          "execution_count": 77
        }
      ]
    },
    {
      "cell_type": "code",
      "source": [
        "from sklearn import metrics\n",
        "\n",
        "cm = metrics.confusion_matrix(TestLabels, PredictedLabels)\n",
        "cm\n",
        "cm_display = metrics.ConfusionMatrixDisplay(confusion_matrix = cm, display_labels = [False, True])\n",
        "\n",
        "cm_display.plot()\n",
        "plt.show()\n",
        "plt.savefig('ConfusionMatrix.png')"
      ],
      "metadata": {
        "colab": {
          "base_uri": "https://localhost:8080/",
          "height": 300
        },
        "id": "tSty_wRhduPF",
        "outputId": "436802e2-fce9-4284-abe0-f3e8cdebb39e"
      },
      "execution_count": 78,
      "outputs": [
        {
          "output_type": "display_data",
          "data": {
            "text/plain": [
              "<Figure size 432x288 with 2 Axes>"
            ],
            "image/png": "[encoded data removed]"
          },
          "metadata": {
            "needs_background": "light"
          }
        },
        {
          "output_type": "display_data",
          "data": {
            "text/plain": [
              "<Figure size 432x288 with 0 Axes>"
            ]
          },
          "metadata": {}
        }
      ]
    },
    {
      "cell_type": "code",
      "source": [
        "# How to calculate the accuracy?\n",
        "accuracy_score(TestLabels,PredictedLabels)"
      ],
      "metadata": {
        "colab": {
          "base_uri": "https://localhost:8080/"
        },
        "id": "sUoqh5lSdv4r",
        "outputId": "db605d20-7567-4ef6-b6d6-6ec3c2d547b4"
      },
      "execution_count": 79,
      "outputs": [
        {
          "output_type": "execute_result",
          "data": {
            "text/plain": [
              "0.77"
            ]
          },
          "metadata": {},
          "execution_count": 79
        }
      ]
    },
    {
      "cell_type": "code",
      "source": [
        "PredictedLabelsBiased=[]\n",
        "for i in range (200):\n",
        "  #WT*x\n",
        "  #WT*X+W0\n",
        "  yOfX0= np.dot(W0.T,list_of_images_testing_np[i].reshape(784,1))+W00\n",
        "  yOfX1= np.dot(W1.T,list_of_images_testing_np[i].reshape(784,1))+W01\n",
        "  yOfX2= np.dot(W2.T,list_of_images_testing_np[i].reshape(784,1))+W02\n",
        "  yOfX3= np.dot(W3.T,list_of_images_testing_np[i].reshape(784,1))+W03\n",
        "  yOfX4= np.dot(W4.T,list_of_images_testing_np[i].reshape(784,1))+W04\n",
        "  yOfX5= np.dot(W5.T,list_of_images_testing_np[i].reshape(784,1))+W05\n",
        "  yOfX6= np.dot(W6.T,list_of_images_testing_np[i].reshape(784,1))+W06\n",
        "  yOfX7= np.dot(W7.T,list_of_images_testing_np[i].reshape(784,1))+W07\n",
        "  yOfX8= np.dot(W8.T,list_of_images_testing_np[i].reshape(784,1))+W08\n",
        "  yOfX9= np.dot(W9.T,list_of_images_testing_np[i].reshape(784,1))+W09\n",
        "\n",
        "  minY=np.array([yOfX0[0],yOfX1[0],yOfX2[0],yOfX3[0],yOfX4[0],yOfX5[0],yOfX6[0],yOfX7[0],yOfX8[0],yOfX9[0]])\n",
        "  minPredIndex= np.argmin(minY)\n",
        "  PredictedLabelsBiased.append(minPredIndex)\n",
        "\n"
      ],
      "metadata": {
        "id": "gkOmjHMZkpX6"
      },
      "execution_count": 80,
      "outputs": []
    },
    {
      "cell_type": "code",
      "source": [
        "PredictedLabelsBiased"
      ],
      "metadata": {
        "id": "6jR4GChKlzRI",
        "colab": {
          "base_uri": "https://localhost:8080/"
        },
        "outputId": "68b8f60c-3329-40a1-bc62-d571cfdd6f0a"
      },
      "execution_count": 81,
      "outputs": [
        {
          "output_type": "execute_result",
          "data": {
            "text/plain": [
              "[0,\n",
              " 0,\n",
              " 0,\n",
              " 0,\n",
              " 0,\n",
              " 0,\n",
              " 0,\n",
              " 0,\n",
              " 0,\n",
              " 0,\n",
              " 0,\n",
              " 0,\n",
              " 0,\n",
              " 0,\n",
              " 0,\n",
              " 0,\n",
              " 0,\n",
              " 0,\n",
              " 6,\n",
              " 0,\n",
              " 1,\n",
              " 1,\n",
              " 1,\n",
              " 1,\n",
              " 1,\n",
              " 1,\n",
              " 1,\n",
              " 1,\n",
              " 1,\n",
              " 1,\n",
              " 1,\n",
              " 1,\n",
              " 1,\n",
              " 1,\n",
              " 1,\n",
              " 1,\n",
              " 1,\n",
              " 1,\n",
              " 1,\n",
              " 1,\n",
              " 2,\n",
              " 1,\n",
              " 2,\n",
              " 1,\n",
              " 2,\n",
              " 2,\n",
              " 0,\n",
              " 4,\n",
              " 3,\n",
              " 2,\n",
              " 3,\n",
              " 2,\n",
              " 1,\n",
              " 5,\n",
              " 2,\n",
              " 2,\n",
              " 4,\n",
              " 2,\n",
              " 2,\n",
              " 2,\n",
              " 3,\n",
              " 3,\n",
              " 3,\n",
              " 3,\n",
              " 5,\n",
              " 3,\n",
              " 3,\n",
              " 3,\n",
              " 3,\n",
              " 3,\n",
              " 3,\n",
              " 3,\n",
              " 3,\n",
              " 3,\n",
              " 3,\n",
              " 3,\n",
              " 3,\n",
              " 3,\n",
              " 8,\n",
              " 8,\n",
              " 4,\n",
              " 4,\n",
              " 4,\n",
              " 4,\n",
              " 4,\n",
              " 4,\n",
              " 4,\n",
              " 4,\n",
              " 4,\n",
              " 5,\n",
              " 4,\n",
              " 4,\n",
              " 8,\n",
              " 4,\n",
              " 4,\n",
              " 4,\n",
              " 4,\n",
              " 4,\n",
              " 4,\n",
              " 9,\n",
              " 8,\n",
              " 5,\n",
              " 5,\n",
              " 3,\n",
              " 5,\n",
              " 5,\n",
              " 5,\n",
              " 5,\n",
              " 5,\n",
              " 5,\n",
              " 9,\n",
              " 8,\n",
              " 6,\n",
              " 5,\n",
              " 5,\n",
              " 5,\n",
              " 9,\n",
              " 5,\n",
              " 5,\n",
              " 5,\n",
              " 6,\n",
              " 6,\n",
              " 6,\n",
              " 6,\n",
              " 6,\n",
              " 6,\n",
              " 6,\n",
              " 6,\n",
              " 6,\n",
              " 6,\n",
              " 6,\n",
              " 6,\n",
              " 6,\n",
              " 6,\n",
              " 6,\n",
              " 6,\n",
              " 6,\n",
              " 6,\n",
              " 6,\n",
              " 6,\n",
              " 7,\n",
              " 7,\n",
              " 7,\n",
              " 7,\n",
              " 7,\n",
              " 7,\n",
              " 7,\n",
              " 7,\n",
              " 7,\n",
              " 9,\n",
              " 7,\n",
              " 9,\n",
              " 2,\n",
              " 7,\n",
              " 9,\n",
              " 7,\n",
              " 7,\n",
              " 7,\n",
              " 7,\n",
              " 3,\n",
              " 8,\n",
              " 5,\n",
              " 8,\n",
              " 9,\n",
              " 5,\n",
              " 8,\n",
              " 8,\n",
              " 8,\n",
              " 8,\n",
              " 8,\n",
              " 8,\n",
              " 8,\n",
              " 8,\n",
              " 2,\n",
              " 8,\n",
              " 8,\n",
              " 8,\n",
              " 8,\n",
              " 8,\n",
              " 5,\n",
              " 9,\n",
              " 7,\n",
              " 9,\n",
              " 7,\n",
              " 7,\n",
              " 9,\n",
              " 3,\n",
              " 5,\n",
              " 9,\n",
              " 9,\n",
              " 4,\n",
              " 9,\n",
              " 9,\n",
              " 9,\n",
              " 9,\n",
              " 9,\n",
              " 9,\n",
              " 0,\n",
              " 9,\n",
              " 9]"
            ]
          },
          "metadata": {},
          "execution_count": 81
        }
      ]
    },
    {
      "cell_type": "code",
      "source": [
        "from sklearn import metrics\n",
        "\n",
        "cm = metrics.confusion_matrix(TestLabels, PredictedLabelsBiased)\n",
        "cm\n",
        "cm_display = metrics.ConfusionMatrixDisplay(confusion_matrix = cm, display_labels = [False, True])\n",
        "\n",
        "cm_display.plot()\n",
        "plt.show()\n",
        "plt.savefig('ConfusionMatrixBiased.png')"
      ],
      "metadata": {
        "colab": {
          "base_uri": "https://localhost:8080/",
          "height": 300
        },
        "id": "aRGJbhDJlhcw",
        "outputId": "4c403ad9-9deb-4745-df7d-26fb1c86bae8"
      },
      "execution_count": 82,
      "outputs": [
        {
          "output_type": "display_data",
          "data": {
            "text/plain": [
              "<Figure size 432x288 with 2 Axes>"
            ],
            "image/png": "[encoded data removed]"
          },
          "metadata": {
            "needs_background": "light"
          }
        },
        {
          "output_type": "display_data",
          "data": {
            "text/plain": [
              "<Figure size 432x288 with 0 Axes>"
            ]
          },
          "metadata": {}
        }
      ]
    },
    {
      "cell_type": "code",
      "source": [
        "# How to calculate the accuracy?\n",
        "accuracy_score(TestLabels,PredictedLabelsBiased)"
      ],
      "metadata": {
        "id": "fn2PP7XPl66g",
        "colab": {
          "base_uri": "https://localhost:8080/"
        },
        "outputId": "8af6eaab-c095-4f09-fbeb-6ccf6385cce7"
      },
      "execution_count": 83,
      "outputs": [
        {
          "output_type": "execute_result",
          "data": {
            "text/plain": [
              "0.805"
            ]
          },
          "metadata": {},
          "execution_count": 83
        }
      ]
    },
    {
      "cell_type": "markdown",
      "source": [
        "The biased fisher LDA is better than the normal fisher LDA as the accuracy is higher 0.77 and 0.805 respectedly"
      ],
      "metadata": {
        "id": "o4hl5cRAmbAK"
      }
    }
  ]
}